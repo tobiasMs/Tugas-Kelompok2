{
  "nbformat": 4,
  "nbformat_minor": 0,
  "metadata": {
    "colab": {
      "name": "SET.ipynb",
      "provenance": [],
      "collapsed_sections": []
    },
    "kernelspec": {
      "name": "python3",
      "display_name": "Python 3"
    },
    "language_info": {
      "name": "python"
    }
  },
  "cells": [
    {
      "cell_type": "markdown",
      "source": [
        "#Set"
      ],
      "metadata": {
        "id": "pTHI0XC3ot4b"
      }
    },
    {
      "cell_type": "markdown",
      "source": [
        "Sets are used to store multiple items in a single variable.\n"
      ],
      "metadata": {
        "id": "gibYEfS2o-v5"
      }
    },
    {
      "cell_type": "code",
      "execution_count": 1,
      "metadata": {
        "id": "5HBOmf09oeVO"
      },
      "outputs": [],
      "source": [
        "group={1,'Me',0.37}"
      ]
    },
    {
      "cell_type": "code",
      "source": [
        "type(group)"
      ],
      "metadata": {
        "colab": {
          "base_uri": "https://localhost:8080/"
        },
        "id": "zGQB_8sbpRlL",
        "outputId": "30da6378-ef32-4d11-8e29-29c64d87a936"
      },
      "execution_count": 2,
      "outputs": [
        {
          "output_type": "execute_result",
          "data": {
            "text/plain": [
              "set"
            ]
          },
          "metadata": {},
          "execution_count": 2
        }
      ]
    },
    {
      "cell_type": "markdown",
      "source": [
        "When using data set if there are duplicate items, it will only show 1 item."
      ],
      "metadata": {
        "id": "JT9M0pHOp1Xb"
      }
    },
    {
      "cell_type": "code",
      "source": [
        "example1={8,9,8,8,7,9,9,7,7,'a','a','d',3,3,5,2,2,1,1,'c','c','b','b'}"
      ],
      "metadata": {
        "id": "Kd-rFBvPpW_z"
      },
      "execution_count": 12,
      "outputs": []
    },
    {
      "cell_type": "code",
      "source": [
        "len(example1)"
      ],
      "metadata": {
        "colab": {
          "base_uri": "https://localhost:8080/"
        },
        "id": "1Ik3fwLBsLcb",
        "outputId": "79325df6-4041-42a9-9689-99a094fb8091"
      },
      "execution_count": 18,
      "outputs": [
        {
          "output_type": "execute_result",
          "data": {
            "text/plain": [
              "11"
            ]
          },
          "metadata": {},
          "execution_count": 18
        }
      ]
    },
    {
      "cell_type": "markdown",
      "source": [
        "Set data type are unordered, it means that the items in a set do not have a defined order"
      ],
      "metadata": {
        "id": "-YNVEHWtqc1u"
      }
    },
    {
      "cell_type": "code",
      "source": [
        "print(example1)"
      ],
      "metadata": {
        "colab": {
          "base_uri": "https://localhost:8080/"
        },
        "id": "SsXPu5Ihpvmx",
        "outputId": "7810b02e-d578-44c4-b727-d33b40d1e8c4"
      },
      "execution_count": 9,
      "outputs": [
        {
          "output_type": "stream",
          "name": "stdout",
          "text": [
            "{1, 2, 3, 'b', 5, 'c', 7, 8, 9, 'd', 'a'}\n"
          ]
        }
      ]
    },
    {
      "cell_type": "markdown",
      "source": [
        "Set data type are unsubscriptable, it means that set are not callable by index or position"
      ],
      "metadata": {
        "id": "jCSTvRrkroFf"
      }
    },
    {
      "cell_type": "code",
      "source": [
        "print(example1[0:4])"
      ],
      "metadata": {
        "colab": {
          "base_uri": "https://localhost:8080/",
          "height": 172
        },
        "id": "73OVNg1wrHwA",
        "outputId": "3cf0e850-91a3-4d3b-d5da-239ca5cb7747"
      },
      "execution_count": 17,
      "outputs": [
        {
          "output_type": "error",
          "ename": "TypeError",
          "evalue": "ignored",
          "traceback": [
            "\u001b[0;31m---------------------------------------------------------------------------\u001b[0m",
            "\u001b[0;31mTypeError\u001b[0m                                 Traceback (most recent call last)",
            "\u001b[0;32m<ipython-input-17-3d8bf40016b7>\u001b[0m in \u001b[0;36m<module>\u001b[0;34m()\u001b[0m\n\u001b[0;32m----> 1\u001b[0;31m \u001b[0mprint\u001b[0m\u001b[0;34m(\u001b[0m\u001b[0mexample1\u001b[0m\u001b[0;34m[\u001b[0m\u001b[0;36m0\u001b[0m\u001b[0;34m:\u001b[0m\u001b[0;36m4\u001b[0m\u001b[0;34m]\u001b[0m\u001b[0;34m)\u001b[0m\u001b[0;34m\u001b[0m\u001b[0;34m\u001b[0m\u001b[0m\n\u001b[0m",
            "\u001b[0;31mTypeError\u001b[0m: 'set' object is not subscriptable"
          ]
        }
      ]
    },
    {
      "cell_type": "markdown",
      "source": [
        "Set data type are Unchangeable, it means that we can't replace the value which is in set"
      ],
      "metadata": {
        "id": "h5r5ZeDQtKhX"
      }
    },
    {
      "cell_type": "code",
      "source": [
        "example1[2]='coba'"
      ],
      "metadata": {
        "colab": {
          "base_uri": "https://localhost:8080/",
          "height": 172
        },
        "id": "4zw5dCD2s7O2",
        "outputId": "4a8ab208-3320-4d7d-eec2-5338afcfccdb"
      },
      "execution_count": 19,
      "outputs": [
        {
          "output_type": "error",
          "ename": "TypeError",
          "evalue": "ignored",
          "traceback": [
            "\u001b[0;31m---------------------------------------------------------------------------\u001b[0m",
            "\u001b[0;31mTypeError\u001b[0m                                 Traceback (most recent call last)",
            "\u001b[0;32m<ipython-input-19-0efe48320eca>\u001b[0m in \u001b[0;36m<module>\u001b[0;34m()\u001b[0m\n\u001b[0;32m----> 1\u001b[0;31m \u001b[0mexample1\u001b[0m\u001b[0;34m[\u001b[0m\u001b[0;36m2\u001b[0m\u001b[0;34m]\u001b[0m\u001b[0;34m=\u001b[0m\u001b[0;34m'coba'\u001b[0m\u001b[0;34m\u001b[0m\u001b[0;34m\u001b[0m\u001b[0m\n\u001b[0m",
            "\u001b[0;31mTypeError\u001b[0m: 'set' object does not support item assignment"
          ]
        }
      ]
    },
    {
      "cell_type": "code",
      "source": [
        "example1['c']='me'"
      ],
      "metadata": {
        "colab": {
          "base_uri": "https://localhost:8080/",
          "height": 172
        },
        "id": "tILVxgBOvIMD",
        "outputId": "30c7ef4f-aef5-4d3a-f2eb-478b69521b9b"
      },
      "execution_count": 25,
      "outputs": [
        {
          "output_type": "error",
          "ename": "TypeError",
          "evalue": "ignored",
          "traceback": [
            "\u001b[0;31m---------------------------------------------------------------------------\u001b[0m",
            "\u001b[0;31mTypeError\u001b[0m                                 Traceback (most recent call last)",
            "\u001b[0;32m<ipython-input-25-6240edd9024d>\u001b[0m in \u001b[0;36m<module>\u001b[0;34m()\u001b[0m\n\u001b[0;32m----> 1\u001b[0;31m \u001b[0mexample1\u001b[0m\u001b[0;34m[\u001b[0m\u001b[0;34m'c'\u001b[0m\u001b[0;34m]\u001b[0m\u001b[0;34m=\u001b[0m\u001b[0;34m'me'\u001b[0m\u001b[0;34m\u001b[0m\u001b[0;34m\u001b[0m\u001b[0m\n\u001b[0m",
            "\u001b[0;31mTypeError\u001b[0m: 'set' object does not support item assignment"
          ]
        }
      ]
    },
    {
      "cell_type": "markdown",
      "source": [
        "When we use Set, we can't replace or change value in set. But We can add and remove value in set"
      ],
      "metadata": {
        "id": "21KF5ECLuYTg"
      }
    },
    {
      "cell_type": "code",
      "source": [
        "example1.add(321)"
      ],
      "metadata": {
        "id": "qJfEvJG6tpsq"
      },
      "execution_count": 21,
      "outputs": []
    },
    {
      "cell_type": "code",
      "source": [
        "print(example1)"
      ],
      "metadata": {
        "colab": {
          "base_uri": "https://localhost:8080/"
        },
        "id": "RKy4m3g3uIjv",
        "outputId": "2cd67d9b-48d2-4749-9552-b97d331078d2"
      },
      "execution_count": 22,
      "outputs": [
        {
          "output_type": "stream",
          "name": "stdout",
          "text": [
            "{1, 2, 3, 'b', 5, 'c', 7, 8, 9, 321, 'd', 'a'}\n"
          ]
        }
      ]
    },
    {
      "cell_type": "code",
      "source": [
        "example1.remove('b')"
      ],
      "metadata": {
        "id": "f7QAYRoUuO9j"
      },
      "execution_count": 23,
      "outputs": []
    },
    {
      "cell_type": "code",
      "source": [
        "print(example1)"
      ],
      "metadata": {
        "colab": {
          "base_uri": "https://localhost:8080/"
        },
        "id": "laBFA7VluT9Z",
        "outputId": "0921b885-a342-49b2-ffce-3d101ad37643"
      },
      "execution_count": 24,
      "outputs": [
        {
          "output_type": "stream",
          "name": "stdout",
          "text": [
            "{1, 2, 3, 5, 'c', 7, 8, 9, 321, 'd', 'a'}\n"
          ]
        }
      ]
    }
  ]
}