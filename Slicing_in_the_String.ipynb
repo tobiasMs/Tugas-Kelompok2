{
  "nbformat": 4,
  "nbformat_minor": 0,
  "metadata": {
    "colab": {
      "name": "Slicing in the String.ipynb",
      "provenance": [],
      "collapsed_sections": []
    },
    "kernelspec": {
      "name": "python3",
      "display_name": "Python 3"
    },
    "language_info": {
      "name": "python"
    }
  },
  "cells": [
    {
      "cell_type": "markdown",
      "source": [
        "#Slicing in the String#"
      ],
      "metadata": {
        "id": "WR0TpuL5dq9Q"
      }
    },
    {
      "cell_type": "markdown",
      "source": [
        "Because string are similar to list, the slicing operator can also be used on strings to return the string elements. String can be changed only if they are intact (cannot be changed element by element). Slicing rules on string are the same as for list."
      ],
      "metadata": {
        "id": "pdzN0qn0dxby"
      }
    },
    {
      "cell_type": "code",
      "execution_count": 1,
      "metadata": {
        "colab": {
          "base_uri": "https://localhost:8080/"
        },
        "id": "hyWZVhNzdf8D",
        "outputId": "1cee8fc2-7652-4a31-dcdb-edca0cfa04f9"
      },
      "outputs": [
        {
          "output_type": "stream",
          "name": "stdout",
          "text": [
            "Tobias Mikha\n"
          ]
        }
      ],
      "source": [
        "name = \"Tobias Mikha\"\n",
        "print (name)"
      ]
    },
    {
      "cell_type": "code",
      "source": [
        "print (name[2])\n",
        "#return string name element at index 2"
      ],
      "metadata": {
        "colab": {
          "base_uri": "https://localhost:8080/"
        },
        "id": "AOw-9KkJd0tm",
        "outputId": "07b06dba-8b25-4ad7-9da8-2c33657d2866"
      },
      "execution_count": 2,
      "outputs": [
        {
          "output_type": "stream",
          "name": "stdout",
          "text": [
            "b\n"
          ]
        }
      ]
    },
    {
      "cell_type": "code",
      "source": [
        "print (name[4:8])\n",
        "#return string name element at index 4,5,6, and 7"
      ],
      "metadata": {
        "colab": {
          "base_uri": "https://localhost:8080/"
        },
        "id": "ZZTFC918d3R_",
        "outputId": "810d3d54-416f-49db-88ba-f13770eae6f0"
      },
      "execution_count": 3,
      "outputs": [
        {
          "output_type": "stream",
          "name": "stdout",
          "text": [
            "as M\n"
          ]
        }
      ]
    },
    {
      "cell_type": "code",
      "source": [
        "print (name[:5])\n",
        "#return string name from beginning to index 4"
      ],
      "metadata": {
        "colab": {
          "base_uri": "https://localhost:8080/"
        },
        "id": "7bMWkfF-d6x1",
        "outputId": "049f2c54-9ae0-4965-ae3e-4fafe40e9f18"
      },
      "execution_count": 5,
      "outputs": [
        {
          "output_type": "stream",
          "name": "stdout",
          "text": [
            "Tobia\n"
          ]
        }
      ]
    },
    {
      "cell_type": "code",
      "source": [
        "print (name[2:])\n",
        "#return string name from index 2 to end"
      ],
      "metadata": {
        "colab": {
          "base_uri": "https://localhost:8080/"
        },
        "id": "-9WKTOBfeMS9",
        "outputId": "368d00ed-517f-4b71-e891-84435e1c31f8"
      },
      "execution_count": 6,
      "outputs": [
        {
          "output_type": "stream",
          "name": "stdout",
          "text": [
            "bias Mikha\n"
          ]
        }
      ]
    },
    {
      "cell_type": "markdown",
      "source": [
        "String cannot be changed element by element."
      ],
      "metadata": {
        "id": "Wj1bfQaLeaJV"
      }
    },
    {
      "cell_type": "code",
      "source": [
        "name[3] = \"a\""
      ],
      "metadata": {
        "colab": {
          "base_uri": "https://localhost:8080/",
          "height": 165
        },
        "id": "m-5ST0UCebDq",
        "outputId": "fed66e77-08df-4477-e10b-3a8ebd170572"
      },
      "execution_count": 7,
      "outputs": [
        {
          "output_type": "error",
          "ename": "TypeError",
          "evalue": "ignored",
          "traceback": [
            "\u001b[0;31m---------------------------------------------------------------------------\u001b[0m",
            "\u001b[0;31mTypeError\u001b[0m                                 Traceback (most recent call last)",
            "\u001b[0;32m<ipython-input-7-9f5fcc2ae54f>\u001b[0m in \u001b[0;36m<module>\u001b[0;34m()\u001b[0m\n\u001b[0;32m----> 1\u001b[0;31m \u001b[0mname\u001b[0m\u001b[0;34m[\u001b[0m\u001b[0;36m3\u001b[0m\u001b[0;34m]\u001b[0m \u001b[0;34m=\u001b[0m \u001b[0;34m\"a\"\u001b[0m\u001b[0;34m\u001b[0m\u001b[0;34m\u001b[0m\u001b[0m\n\u001b[0m",
            "\u001b[0;31mTypeError\u001b[0m: 'str' object does not support item assignment"
          ]
        }
      ]
    },
    {
      "cell_type": "markdown",
      "source": [
        "But string can be changed if it is intact."
      ],
      "metadata": {
        "id": "TkahMimUedlJ"
      }
    },
    {
      "cell_type": "code",
      "source": [
        "name = \"Sari Yuliastuti\""
      ],
      "metadata": {
        "id": "zsWOQXw3egV8"
      },
      "execution_count": 8,
      "outputs": []
    },
    {
      "cell_type": "code",
      "source": [
        "print (name)"
      ],
      "metadata": {
        "colab": {
          "base_uri": "https://localhost:8080/"
        },
        "id": "8us4BXwbeuhX",
        "outputId": "5a1f71d1-e75f-4996-dd1f-a97a06eca1b9"
      },
      "execution_count": 9,
      "outputs": [
        {
          "output_type": "stream",
          "name": "stdout",
          "text": [
            "Sari Yuliastuti\n"
          ]
        }
      ]
    }
  ]
}