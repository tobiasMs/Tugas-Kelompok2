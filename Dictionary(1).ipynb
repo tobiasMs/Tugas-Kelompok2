{
  "nbformat": 4,
  "nbformat_minor": 0,
  "metadata": {
    "colab": {
      "name": "Dictionary.ipynb",
      "provenance": [],
      "collapsed_sections": []
    },
    "kernelspec": {
      "name": "python3",
      "display_name": "Python 3"
    },
    "language_info": {
      "name": "python"
    }
  },
  "cells": [
    {
      "cell_type": "markdown",
      "source": [
        "#Dictionary"
      ],
      "metadata": {
        "id": "LNCqHcZWI63N"
      }
    },
    {
      "cell_type": "markdown",
      "source": [
        "Dictionary can be defined as a collection of data stored in key/value pairs. Keys must be an immutable data type (such as string, integer or tuple), while values in a dictionary can be any Python data type. "
      ],
      "metadata": {
        "id": "QUXonyacJBSw"
      }
    },
    {
      "cell_type": "code",
      "execution_count": 11,
      "metadata": {
        "id": "02SbQhcyI4Xh"
      },
      "outputs": [],
      "source": [
        "matplotlibgroup = {\"Member1\": \"Tobias\", \"Member2\": \"Daud\", \"Member3\": \"Rere\", 'Member4':'Sari', 'Member5':'Fitri'}"
      ]
    },
    {
      "cell_type": "code",
      "source": [
        "type(matplotlibgroup)"
      ],
      "metadata": {
        "colab": {
          "base_uri": "https://localhost:8080/"
        },
        "id": "AvT_jprvKbAT",
        "outputId": "224422fb-4fca-449a-e8a7-5bcf6ffaba2f"
      },
      "execution_count": 3,
      "outputs": [
        {
          "output_type": "execute_result",
          "data": {
            "text/plain": [
              "dict"
            ]
          },
          "metadata": {},
          "execution_count": 3
        }
      ]
    },
    {
      "cell_type": "code",
      "source": [
        "print(matplotlibgroup)"
      ],
      "metadata": {
        "colab": {
          "base_uri": "https://localhost:8080/"
        },
        "id": "Y1jttejbKeKZ",
        "outputId": "85f0108a-9a88-4a19-94ad-55985e3e5070"
      },
      "execution_count": 4,
      "outputs": [
        {
          "output_type": "stream",
          "name": "stdout",
          "text": [
            "{'member1': 'Tobias', 'Member2': 'Daud', 'Member3': 'Rere', 'Member4': 'Sari', 'Member5': 'Fitri'}\n"
          ]
        }
      ]
    },
    {
      "cell_type": "markdown",
      "source": [
        "When we use dictionary, We can't call the data by his position (by the index)"
      ],
      "metadata": {
        "id": "tKgHnQzkK7tk"
      }
    },
    {
      "cell_type": "code",
      "source": [
        "print(matplotlibgroup[1])"
      ],
      "metadata": {
        "colab": {
          "base_uri": "https://localhost:8080/",
          "height": 172
        },
        "id": "rep3ZX4fKr3v",
        "outputId": "ca217eaa-eae8-4f6d-eedc-08fd4981f4ee"
      },
      "execution_count": 6,
      "outputs": [
        {
          "output_type": "error",
          "ename": "KeyError",
          "evalue": "ignored",
          "traceback": [
            "\u001b[0;31m---------------------------------------------------------------------------\u001b[0m",
            "\u001b[0;31mKeyError\u001b[0m                                  Traceback (most recent call last)",
            "\u001b[0;32m<ipython-input-6-7f2d2d981b47>\u001b[0m in \u001b[0;36m<module>\u001b[0;34m()\u001b[0m\n\u001b[0;32m----> 1\u001b[0;31m \u001b[0mprint\u001b[0m\u001b[0;34m(\u001b[0m\u001b[0mmatplotlibgroup\u001b[0m\u001b[0;34m[\u001b[0m\u001b[0;36m1\u001b[0m\u001b[0;34m]\u001b[0m\u001b[0;34m)\u001b[0m\u001b[0;34m\u001b[0m\u001b[0;34m\u001b[0m\u001b[0m\n\u001b[0m",
            "\u001b[0;31mKeyError\u001b[0m: 1"
          ]
        }
      ]
    },
    {
      "cell_type": "markdown",
      "source": [
        "When we use dictionary, to call the data must to call the key so the value will appear  "
      ],
      "metadata": {
        "id": "GXFsVpldL8ad"
      }
    },
    {
      "cell_type": "code",
      "source": [
        "print(matplotlibgroup['Member1'])"
      ],
      "metadata": {
        "colab": {
          "base_uri": "https://localhost:8080/"
        },
        "id": "rw5N8mFhLsrr",
        "outputId": "f3ed141d-76c0-4989-fbd5-c1a8d5567b15"
      },
      "execution_count": 13,
      "outputs": [
        {
          "output_type": "stream",
          "name": "stdout",
          "text": [
            "Tobias\n"
          ]
        }
      ]
    },
    {
      "cell_type": "code",
      "source": [
        "print(matplotlibgroup['Member5'])"
      ],
      "metadata": {
        "colab": {
          "base_uri": "https://localhost:8080/"
        },
        "id": "6G61PvY7MQ4-",
        "outputId": "52be7bae-cca4-459a-f7e8-feb53e459643"
      },
      "execution_count": 15,
      "outputs": [
        {
          "output_type": "stream",
          "name": "stdout",
          "text": [
            "Fitri\n"
          ]
        }
      ]
    },
    {
      "cell_type": "markdown",
      "source": [
        "we can't call the key by calling the value, therefore dictionary value is not the opposite"
      ],
      "metadata": {
        "id": "OI4nRUndRaCF"
      }
    },
    {
      "cell_type": "code",
      "source": [
        "print(matplotlibgroup[\"Daud\"])"
      ],
      "metadata": {
        "colab": {
          "base_uri": "https://localhost:8080/",
          "height": 172
        },
        "id": "OrFd1mBZRUI2",
        "outputId": "84026c3a-55c0-4883-e706-516f0eb73535"
      },
      "execution_count": 29,
      "outputs": [
        {
          "output_type": "error",
          "ename": "KeyError",
          "evalue": "ignored",
          "traceback": [
            "\u001b[0;31m---------------------------------------------------------------------------\u001b[0m",
            "\u001b[0;31mKeyError\u001b[0m                                  Traceback (most recent call last)",
            "\u001b[0;32m<ipython-input-29-12e9cff7d1e9>\u001b[0m in \u001b[0;36m<module>\u001b[0;34m()\u001b[0m\n\u001b[0;32m----> 1\u001b[0;31m \u001b[0mprint\u001b[0m\u001b[0;34m(\u001b[0m\u001b[0mmatplotlibgroup\u001b[0m\u001b[0;34m[\u001b[0m\u001b[0;34m\"Daud\"\u001b[0m\u001b[0;34m]\u001b[0m\u001b[0;34m)\u001b[0m\u001b[0;34m\u001b[0m\u001b[0;34m\u001b[0m\u001b[0m\n\u001b[0m",
            "\u001b[0;31mKeyError\u001b[0m: 'Daud'"
          ]
        }
      ]
    },
    {
      "cell_type": "markdown",
      "source": [
        "We can Add Dictionary value by make new key and value"
      ],
      "metadata": {
        "id": "0MaQPwI_M4ZR"
      }
    },
    {
      "cell_type": "code",
      "source": [
        "matplotlibgroup['Mentor']='Suwarti'"
      ],
      "metadata": {
        "id": "yxjtAf0CNEwk"
      },
      "execution_count": 16,
      "outputs": []
    },
    {
      "cell_type": "code",
      "source": [
        "print(matplotlibgroup)"
      ],
      "metadata": {
        "colab": {
          "base_uri": "https://localhost:8080/"
        },
        "id": "ZB_w34iHNQq0",
        "outputId": "b2611e1c-1a1b-4298-da7b-a540f6d2dd99"
      },
      "execution_count": 17,
      "outputs": [
        {
          "output_type": "stream",
          "name": "stdout",
          "text": [
            "{'Member1': 'Tobias', 'Member2': 'Daud', 'Member3': 'Rere', 'Member4': 'Sari', 'Member5': 'Fitri', 'Mentor': 'Suwarti'}\n"
          ]
        }
      ]
    },
    {
      "cell_type": "markdown",
      "source": [
        "When use dictionary, we can replace the existing value by calling the key and replace with new data/value"
      ],
      "metadata": {
        "id": "j9xrzs7pOjB9"
      }
    },
    {
      "cell_type": "code",
      "source": [
        "matplotlibgroup['Member1']='Baru'"
      ],
      "metadata": {
        "id": "JKLEVRplOM7j"
      },
      "execution_count": 18,
      "outputs": []
    },
    {
      "cell_type": "code",
      "source": [
        "print(matplotlibgroup)"
      ],
      "metadata": {
        "colab": {
          "base_uri": "https://localhost:8080/"
        },
        "id": "L1_9jIEgOd9V",
        "outputId": "45824887-4992-411a-e7f4-894ddd739b57"
      },
      "execution_count": 19,
      "outputs": [
        {
          "output_type": "stream",
          "name": "stdout",
          "text": [
            "{'Member1': 'Baru', 'Member2': 'Daud', 'Member3': 'Rere', 'Member4': 'Sari', 'Member5': 'Fitri', 'Mentor': 'Suwarti'}\n"
          ]
        }
      ]
    },
    {
      "cell_type": "markdown",
      "source": [
        "To make Dictionary Keys must be an immutable data type (such as string, integer or tuple), while values in a dictionary can be any Python data type "
      ],
      "metadata": {
        "id": "l8DZ57aHQdlq"
      }
    },
    {
      "cell_type": "code",
      "source": [
        "NewArr={'1':'Me', 2:20, 3:170.15}"
      ],
      "metadata": {
        "id": "82AwIfBLPSQz"
      },
      "execution_count": 25,
      "outputs": []
    },
    {
      "cell_type": "code",
      "source": [
        "print(NewArr)"
      ],
      "metadata": {
        "colab": {
          "base_uri": "https://localhost:8080/"
        },
        "id": "FYs8FdPuQJQD",
        "outputId": "ca780871-64dd-4188-82a0-72a4eaf7a811"
      },
      "execution_count": 23,
      "outputs": [
        {
          "output_type": "stream",
          "name": "stdout",
          "text": [
            "{'1': 'Me', 2: 20, 3: 3.15}\n"
          ]
        }
      ]
    },
    {
      "cell_type": "code",
      "source": [
        "print(NewArr[2])"
      ],
      "metadata": {
        "colab": {
          "base_uri": "https://localhost:8080/"
        },
        "id": "76Ju-OHPQ4kw",
        "outputId": "7683ce24-cd56-491a-a0db-081a0cf5f25a"
      },
      "execution_count": 28,
      "outputs": [
        {
          "output_type": "stream",
          "name": "stdout",
          "text": [
            "20\n"
          ]
        }
      ]
    },
    {
      "cell_type": "code",
      "source": [
        "print(NewArr[\"1\"])"
      ],
      "metadata": {
        "colab": {
          "base_uri": "https://localhost:8080/"
        },
        "id": "Zf-v8611QNIy",
        "outputId": "47026c92-4c99-45b7-f522-25eb6a1737e5"
      },
      "execution_count": 24,
      "outputs": [
        {
          "output_type": "stream",
          "name": "stdout",
          "text": [
            "Me\n"
          ]
        }
      ]
    },
    {
      "cell_type": "code",
      "source": [
        "print(NewArr[3])"
      ],
      "metadata": {
        "colab": {
          "base_uri": "https://localhost:8080/"
        },
        "id": "3ZUUiFBHQWdt",
        "outputId": "a6ba8d0d-cf3d-47c3-dbb9-d66dd998d102"
      },
      "execution_count": 27,
      "outputs": [
        {
          "output_type": "stream",
          "name": "stdout",
          "text": [
            "170.15\n"
          ]
        }
      ]
    }
  ]
}