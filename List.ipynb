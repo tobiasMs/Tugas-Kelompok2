{
  "nbformat": 4,
  "nbformat_minor": 0,
  "metadata": {
    "colab": {
      "name": "List.ipynb",
      "provenance": [],
      "collapsed_sections": []
    },
    "kernelspec": {
      "name": "python3",
      "display_name": "Python 3"
    },
    "language_info": {
      "name": "python"
    }
  },
  "cells": [
    {
      "cell_type": "markdown",
      "source": [
        "#Python Datatypes Group Matplotlib\n",
        "#####Member:\n",
        "<ol type 1> <li>Tobias Mikha Sulistiyo</li>\n",
        "            <li>Daud Ibadurahman</li>\n",
        "            <li>Putri Reghina Hilmi Prasasti</li>\n",
        "            <li>Sari Yuliastuti</li>\n",
        "            <li>Fitri Alfaqrina</li></ol>"
      ],
      "metadata": {
        "id": "0QL0SLju4txe"
      }
    },
    {
      "cell_type": "markdown",
      "source": [
        "#List#"
      ],
      "metadata": {
        "id": "sxTGGCIp9lzz"
      }
    },
    {
      "cell_type": "markdown",
      "source": [
        "List is an ordered sequence of items. It is one of the most used datatype in Python. List is very flexibles, all the items in a list do not need to be of the same type.\n",
        "\n",
        "Declaring a list is pretty straight forward. Items separated by commas are enclosed within brackets [  ]."
      ],
      "metadata": {
        "id": "JyBcqxxe-w50"
      }
    },
    {
      "cell_type": "markdown",
      "source": [
        "###Creating a List###"
      ],
      "metadata": {
        "id": "843u4kP9Alz8"
      }
    },
    {
      "cell_type": "code",
      "source": [
        "a = [\"Saturday\", 19, 9.25, 2022]\n",
        "print (a)"
      ],
      "metadata": {
        "colab": {
          "base_uri": "https://localhost:8080/"
        },
        "id": "eZxPztdA-jGn",
        "outputId": "126ea643-b0c9-4979-b1da-6f4d641c96b0"
      },
      "execution_count": null,
      "outputs": [
        {
          "output_type": "stream",
          "name": "stdout",
          "text": [
            "['Saturday', 19, 9.25, 2022]\n"
          ]
        }
      ]
    },
    {
      "cell_type": "code",
      "source": [
        "type (a)"
      ],
      "metadata": {
        "colab": {
          "base_uri": "https://localhost:8080/"
        },
        "id": "BH-JSxG8i2dZ",
        "outputId": "b2a69603-7bf4-4242-b8dc-abb474548b59"
      },
      "execution_count": 124,
      "outputs": [
        {
          "output_type": "execute_result",
          "data": {
            "text/plain": [
              "list"
            ]
          },
          "metadata": {},
          "execution_count": 124
        }
      ]
    },
    {
      "cell_type": "markdown",
      "source": [
        "###Access an Element in the List###\n"
      ],
      "metadata": {
        "id": "UB8_XHYJ_ucj"
      }
    },
    {
      "cell_type": "markdown",
      "source": [
        "We can use the slicing operator [ ] to access an element of the List by index. The index starts from 0 in Python."
      ],
      "metadata": {
        "id": "G8XlxnqjBWcu"
      }
    },
    {
      "cell_type": "code",
      "source": [
        "print (a[0])\n",
        "print (a[1])\n",
        "print (a[2])\n",
        "print (a[3])"
      ],
      "metadata": {
        "colab": {
          "base_uri": "https://localhost:8080/"
        },
        "id": "EwLS9TGoBXtV",
        "outputId": "a4043b72-7556-49ba-f307-4762015735ac"
      },
      "execution_count": null,
      "outputs": [
        {
          "output_type": "stream",
          "name": "stdout",
          "text": [
            "Saturday\n",
            "19\n",
            "9.25\n",
            "2022\n"
          ]
        }
      ]
    },
    {
      "cell_type": "markdown",
      "source": [
        "Because the index in python starts from 0, then if there are n elements in the list, the index of the elements in the list is only up to n-1.\n",
        "Trying to access indexes other than these will raise an Error. The index must be an integer. We can't use float or other types, this will result an Error."
      ],
      "metadata": {
        "id": "Ay1RGbaBB2GO"
      }
    },
    {
      "cell_type": "code",
      "source": [
        "print(a[3.5])"
      ],
      "metadata": {
        "colab": {
          "base_uri": "https://localhost:8080/",
          "height": 165
        },
        "id": "g1WOWB9RCZG4",
        "outputId": "1b57f516-30bf-4cb5-ccaa-e8fae9631f59"
      },
      "execution_count": null,
      "outputs": [
        {
          "output_type": "error",
          "ename": "TypeError",
          "evalue": "ignored",
          "traceback": [
            "\u001b[0;31m---------------------------------------------------------------------------\u001b[0m",
            "\u001b[0;31mTypeError\u001b[0m                                 Traceback (most recent call last)",
            "\u001b[0;32m<ipython-input-7-50c134251a1a>\u001b[0m in \u001b[0;36m<module>\u001b[0;34m()\u001b[0m\n\u001b[0;32m----> 1\u001b[0;31m \u001b[0mprint\u001b[0m\u001b[0;34m(\u001b[0m\u001b[0ma\u001b[0m\u001b[0;34m[\u001b[0m\u001b[0;36m3.5\u001b[0m\u001b[0;34m]\u001b[0m\u001b[0;34m)\u001b[0m\u001b[0;34m\u001b[0m\u001b[0;34m\u001b[0m\u001b[0m\n\u001b[0m",
            "\u001b[0;31mTypeError\u001b[0m: list indices must be integers or slices, not float"
          ]
        }
      ]
    },
    {
      "cell_type": "code",
      "source": [
        "print(a[4])"
      ],
      "metadata": {
        "colab": {
          "base_uri": "https://localhost:8080/",
          "height": 165
        },
        "id": "bow6f_H2CUxa",
        "outputId": "43783845-6c16-47ce-f450-58cb36e745a0"
      },
      "execution_count": null,
      "outputs": [
        {
          "output_type": "error",
          "ename": "IndexError",
          "evalue": "ignored",
          "traceback": [
            "\u001b[0;31m---------------------------------------------------------------------------\u001b[0m",
            "\u001b[0;31mIndexError\u001b[0m                                Traceback (most recent call last)",
            "\u001b[0;32m<ipython-input-6-ba4863cd608d>\u001b[0m in \u001b[0;36m<module>\u001b[0;34m()\u001b[0m\n\u001b[0;32m----> 1\u001b[0;31m \u001b[0mprint\u001b[0m\u001b[0;34m(\u001b[0m\u001b[0ma\u001b[0m\u001b[0;34m[\u001b[0m\u001b[0;36m4\u001b[0m\u001b[0;34m]\u001b[0m\u001b[0;34m)\u001b[0m\u001b[0;34m\u001b[0m\u001b[0;34m\u001b[0m\u001b[0m\n\u001b[0m",
            "\u001b[0;31mIndexError\u001b[0m: list index out of range"
          ]
        }
      ]
    },
    {
      "cell_type": "markdown",
      "source": [
        "###Negative Indexing###"
      ],
      "metadata": {
        "id": "pe74see0CfTV"
      }
    },
    {
      "cell_type": "markdown",
      "source": [
        "Python allows negative indexing for its sequences. The index of -n refers to the n last item in the List."
      ],
      "metadata": {
        "id": "2Gq88P_YC3-J"
      }
    },
    {
      "cell_type": "code",
      "source": [
        "print(a[-1])\n",
        "print(a[-4])"
      ],
      "metadata": {
        "colab": {
          "base_uri": "https://localhost:8080/"
        },
        "id": "MMQ5rkuACpZv",
        "outputId": "8661bb41-89f9-46f6-c444-36b748f3e8f5"
      },
      "execution_count": null,
      "outputs": [
        {
          "output_type": "stream",
          "name": "stdout",
          "text": [
            "2022\n",
            "Saturday\n"
          ]
        }
      ]
    },
    {
      "cell_type": "markdown",
      "source": [
        "###List Slicing###"
      ],
      "metadata": {
        "id": "NsOuYfvVDKqE"
      }
    },
    {
      "cell_type": "markdown",
      "source": [
        "We can access a range of items in a List by using the slicing operator (:).\n",
        "<br>When using List slicing, a [ m:n ], means returning list elements from element with index m to elemen with index n-1.\n"
      ],
      "metadata": {
        "id": "jiHNrRNnDjns"
      }
    },
    {
      "cell_type": "code",
      "source": [
        "print (a[0:2])\n",
        "#return list 'a' with elements at index 0 and 1"
      ],
      "metadata": {
        "id": "pijmhNyLDtAy",
        "colab": {
          "base_uri": "https://localhost:8080/"
        },
        "outputId": "d1900c6c-faca-4f4e-da22-47e900c2baa1"
      },
      "execution_count": 14,
      "outputs": [
        {
          "output_type": "stream",
          "name": "stdout",
          "text": [
            "['Saturday', 19]\n"
          ]
        }
      ]
    },
    {
      "cell_type": "code",
      "source": [
        "print (a[1:4])\n",
        "#return list 'a' with elements at index 1, 2, and 3"
      ],
      "metadata": {
        "colab": {
          "base_uri": "https://localhost:8080/"
        },
        "id": "1HVLu8k_JB1q",
        "outputId": "022f5c18-787d-4c75-d81b-73b3a209306d"
      },
      "execution_count": 13,
      "outputs": [
        {
          "output_type": "stream",
          "name": "stdout",
          "text": [
            "[19, 9.25, 2022]\n"
          ]
        }
      ]
    },
    {
      "cell_type": "code",
      "source": [
        "print (a[:3])\n",
        "#return list 'a' from beginning to index 2"
      ],
      "metadata": {
        "colab": {
          "base_uri": "https://localhost:8080/"
        },
        "id": "1LYzobtTJbmg",
        "outputId": "704a0f88-f0f3-4e47-ac3c-fc833d2e8be6"
      },
      "execution_count": 15,
      "outputs": [
        {
          "output_type": "stream",
          "name": "stdout",
          "text": [
            "['Saturday', 19, 9.25]\n"
          ]
        }
      ]
    },
    {
      "cell_type": "code",
      "source": [
        "print (a[1:])\n",
        "#return list 'a' from index 1 to end"
      ],
      "metadata": {
        "colab": {
          "base_uri": "https://localhost:8080/"
        },
        "id": "-yxRT_Y_KWBy",
        "outputId": "08427e05-d07d-4a9b-fbb0-15cd18298346"
      },
      "execution_count": 16,
      "outputs": [
        {
          "output_type": "stream",
          "name": "stdout",
          "text": [
            "[19, 9.25, 2022]\n"
          ]
        }
      ]
    },
    {
      "cell_type": "markdown",
      "source": [
        "###Change List Elements###"
      ],
      "metadata": {
        "id": "AXV2VfctKjsK"
      }
    },
    {
      "cell_type": "markdown",
      "source": [
        "Lists are mutable, their elements can be changed.\n",
        "<br>We can use the assignment operator = to change an item or a range of items."
      ],
      "metadata": {
        "id": "n9iRpy_mKs1o"
      }
    },
    {
      "cell_type": "code",
      "source": [
        "group = [\"M\",\"a\",\"t\",\"p\",\"l\",\"o\",\"o\",\"l\",\"i\",\"b\"]\n",
        "print (group)"
      ],
      "metadata": {
        "colab": {
          "base_uri": "https://localhost:8080/"
        },
        "id": "CbH42Q9iKiT3",
        "outputId": "a0b393a6-201f-4b10-ba80-4468e901ca1b"
      },
      "execution_count": 30,
      "outputs": [
        {
          "output_type": "stream",
          "name": "stdout",
          "text": [
            "['M', 'a', 't', 'p', 'l', 'o', 'o', 'l', 'i', 'b']\n"
          ]
        }
      ]
    },
    {
      "cell_type": "code",
      "source": [
        "group[6] = \"t\"\n",
        "#change element list 'group' at index 6"
      ],
      "metadata": {
        "id": "t1hP4_zzLtAw"
      },
      "execution_count": 31,
      "outputs": []
    },
    {
      "cell_type": "code",
      "source": [
        "print (group)"
      ],
      "metadata": {
        "colab": {
          "base_uri": "https://localhost:8080/"
        },
        "id": "yIxHh-jKMIdO",
        "outputId": "fea97a51-00e4-4bcf-928b-cbcf68d9d301"
      },
      "execution_count": 32,
      "outputs": [
        {
          "output_type": "stream",
          "name": "stdout",
          "text": [
            "['M', 'a', 't', 'p', 'l', 'o', 't', 'l', 'i', 'b']\n"
          ]
        }
      ]
    },
    {
      "cell_type": "code",
      "source": [
        "group[0:3] = [1,2,3]\n",
        "#change element list 'group' at index 0, 1, and 2"
      ],
      "metadata": {
        "id": "hL2R2equMV4R"
      },
      "execution_count": 33,
      "outputs": []
    },
    {
      "cell_type": "code",
      "source": [
        "print (group)"
      ],
      "metadata": {
        "colab": {
          "base_uri": "https://localhost:8080/"
        },
        "id": "-lNPiDqpMx-Y",
        "outputId": "aa821a7b-ca63-47da-c3d2-baafd8376896"
      },
      "execution_count": 34,
      "outputs": [
        {
          "output_type": "stream",
          "name": "stdout",
          "text": [
            "[1, 2, 3, 'p', 'l', 'o', 't', 'l', 'i', 'b']\n"
          ]
        }
      ]
    },
    {
      "cell_type": "markdown",
      "source": [
        "###Add List Elements"
      ],
      "metadata": {
        "id": "xgCpDq-jNA_N"
      }
    },
    {
      "cell_type": "markdown",
      "source": [
        "Elements in a list can be added by using append(), extend(), or insert() methods."
      ],
      "metadata": {
        "id": "Ug_4KuggNiFp"
      }
    },
    {
      "cell_type": "markdown",
      "source": [
        "####append ()\n",
        "<p>Adds an element to the end of the list."
      ],
      "metadata": {
        "id": "RyQzgGXDNVYG"
      }
    },
    {
      "cell_type": "code",
      "source": [
        "b = [1,2,3,\"n\",\"o\"]\n",
        "print (b)"
      ],
      "metadata": {
        "colab": {
          "base_uri": "https://localhost:8080/"
        },
        "id": "g4HjqavVNSAU",
        "outputId": "62a87089-25d3-41a2-b202-2b5e0ca2fef7"
      },
      "execution_count": 39,
      "outputs": [
        {
          "output_type": "stream",
          "name": "stdout",
          "text": [
            "[1, 2, 3, 'n', 'o']\n"
          ]
        }
      ]
    },
    {
      "cell_type": "code",
      "source": [
        "b.append(\"w\")\n",
        "#adding an element to the end of the list 'b'"
      ],
      "metadata": {
        "id": "ModjopBAORlm"
      },
      "execution_count": 40,
      "outputs": []
    },
    {
      "cell_type": "code",
      "source": [
        "print (b)"
      ],
      "metadata": {
        "colab": {
          "base_uri": "https://localhost:8080/"
        },
        "id": "HBJrswkYOcjX",
        "outputId": "f6ca1a39-86a6-4436-abcb-653009be0f54"
      },
      "execution_count": 41,
      "outputs": [
        {
          "output_type": "stream",
          "name": "stdout",
          "text": [
            "[1, 2, 3, 'n', 'o', 'w']\n"
          ]
        }
      ]
    },
    {
      "cell_type": "markdown",
      "source": [
        "####extend()###\n",
        "<p>Adds all elements of a list to another list</p>"
      ],
      "metadata": {
        "id": "OCeyiQcZOhKl"
      }
    },
    {
      "cell_type": "code",
      "source": [
        "b"
      ],
      "metadata": {
        "colab": {
          "base_uri": "https://localhost:8080/"
        },
        "id": "AbeElQP9OrDy",
        "outputId": "8444080c-ff46-49b5-ed74-c4cd2692d0ae"
      },
      "execution_count": 42,
      "outputs": [
        {
          "output_type": "execute_result",
          "data": {
            "text/plain": [
              "[1, 2, 3, 'n', 'o', 'w']"
            ]
          },
          "metadata": {},
          "execution_count": 42
        }
      ]
    },
    {
      "cell_type": "code",
      "source": [
        "b.extend([\"d\",\"o\",\" \",\"i\",\"t\"])\n"
      ],
      "metadata": {
        "id": "yw4eV87PO8Rj"
      },
      "execution_count": 45,
      "outputs": []
    },
    {
      "cell_type": "code",
      "source": [
        "print (b)"
      ],
      "metadata": {
        "colab": {
          "base_uri": "https://localhost:8080/"
        },
        "id": "0W1FspZxPfqq",
        "outputId": "4ee9bd41-0add-466b-d05e-85947fa3bc37"
      },
      "execution_count": 46,
      "outputs": [
        {
          "output_type": "stream",
          "name": "stdout",
          "text": [
            "[1, 2, 3, 'n', 'o', 'w', 'd', 'o', ' ', 'i', 't']\n"
          ]
        }
      ]
    },
    {
      "cell_type": "markdown",
      "source": [
        "####insert()####\n",
        "<p>Inserts an item at the defined index.\n",
        "<br>insert(i,x) means adds an item x at index i.</p>\n"
      ],
      "metadata": {
        "id": "P8cPLenfPili"
      }
    },
    {
      "cell_type": "code",
      "source": [
        "b"
      ],
      "metadata": {
        "colab": {
          "base_uri": "https://localhost:8080/"
        },
        "id": "UCpDrAJCPiAX",
        "outputId": "6c5c5e4c-41a7-4ac1-fe9c-0739dcab25b0"
      },
      "execution_count": 47,
      "outputs": [
        {
          "output_type": "execute_result",
          "data": {
            "text/plain": [
              "[1, 2, 3, 'n', 'o', 'w', 'd', 'o', ' ', 'i', 't']"
            ]
          },
          "metadata": {},
          "execution_count": 47
        }
      ]
    },
    {
      "cell_type": "code",
      "source": [
        "b.insert(3,4)\n",
        "#adding item 4 at index 3"
      ],
      "metadata": {
        "id": "D0bDkWkaP1D6"
      },
      "execution_count": 48,
      "outputs": []
    },
    {
      "cell_type": "code",
      "source": [
        "print (b)"
      ],
      "metadata": {
        "colab": {
          "base_uri": "https://localhost:8080/"
        },
        "id": "gFm3PmAaQqiL",
        "outputId": "6e8c994f-0762-40f1-ba0c-035c76eefafe"
      },
      "execution_count": 49,
      "outputs": [
        {
          "output_type": "stream",
          "name": "stdout",
          "text": [
            "[1, 2, 3, 4, 'n', 'o', 'w', 'd', 'o', ' ', 'i', 't']\n"
          ]
        }
      ]
    },
    {
      "cell_type": "markdown",
      "source": [
        "###Delete List Elements###"
      ],
      "metadata": {
        "id": "H5l_JFPlQyy7"
      }
    },
    {
      "cell_type": "markdown",
      "source": [
        "We can delete one or more items from a list using the Python del statement. It can even delete the list entirely. <br>\n",
        "We also can use remove() to remove the given item or pop() to remove an item at the given index."
      ],
      "metadata": {
        "id": "sabTKuZ5Q3p6"
      }
    },
    {
      "cell_type": "markdown",
      "source": [
        "####del "
      ],
      "metadata": {
        "id": "HXUMV6qaRSKh"
      }
    },
    {
      "cell_type": "code",
      "source": [
        "c = [19, 3, 2022, 10.43, \"a\", \"m\"]\n",
        "print (c)"
      ],
      "metadata": {
        "colab": {
          "base_uri": "https://localhost:8080/"
        },
        "id": "CMEDQKLXQ2l7",
        "outputId": "4c661eff-b8b6-4d63-ceaa-a3c3f909ee43"
      },
      "execution_count": 75,
      "outputs": [
        {
          "output_type": "stream",
          "name": "stdout",
          "text": [
            "[19, 3, 2022, 10.43, 'a', 'm']\n"
          ]
        }
      ]
    },
    {
      "cell_type": "code",
      "source": [
        "del c[3]\n",
        "#deleting item of the list 'c' at index 3"
      ],
      "metadata": {
        "id": "fS1BRz0kROrg"
      },
      "execution_count": 76,
      "outputs": []
    },
    {
      "cell_type": "code",
      "source": [
        "print (c)"
      ],
      "metadata": {
        "colab": {
          "base_uri": "https://localhost:8080/"
        },
        "id": "OOC8yQFVRqw3",
        "outputId": "f5701af1-0b85-435d-be2f-fbfd329f2589"
      },
      "execution_count": 77,
      "outputs": [
        {
          "output_type": "stream",
          "name": "stdout",
          "text": [
            "[19, 3, 2022, 'a', 'm']\n"
          ]
        }
      ]
    },
    {
      "cell_type": "markdown",
      "source": [
        "####remove()####\n",
        "<p>Removes an item from the list.</p>"
      ],
      "metadata": {
        "id": "3U7TYcMXRtvt"
      }
    },
    {
      "cell_type": "code",
      "source": [
        "c"
      ],
      "metadata": {
        "colab": {
          "base_uri": "https://localhost:8080/"
        },
        "id": "MjxoN1CrRx-t",
        "outputId": "52a498d2-2fad-4f66-f802-363d84e576dd"
      },
      "execution_count": 78,
      "outputs": [
        {
          "output_type": "execute_result",
          "data": {
            "text/plain": [
              "[19, 3, 2022, 'a', 'm']"
            ]
          },
          "metadata": {},
          "execution_count": 78
        }
      ]
    },
    {
      "cell_type": "code",
      "source": [
        "c.remove('a')\n",
        "#remove item \"a\" in the list c"
      ],
      "metadata": {
        "id": "pMB-JBTORzLf"
      },
      "execution_count": 79,
      "outputs": []
    },
    {
      "cell_type": "code",
      "source": [
        "print (c)"
      ],
      "metadata": {
        "colab": {
          "base_uri": "https://localhost:8080/"
        },
        "id": "XtDEuGkVSNVd",
        "outputId": "c9589b7a-21de-4abd-eabc-350314a6bb9c"
      },
      "execution_count": 80,
      "outputs": [
        {
          "output_type": "stream",
          "name": "stdout",
          "text": [
            "[19, 3, 2022, 'm']\n"
          ]
        }
      ]
    },
    {
      "cell_type": "markdown",
      "source": [
        "####pop()####\n",
        "<p>Removes an element at the given index. Element that will be remove will be displayed at output. </p>"
      ],
      "metadata": {
        "id": "F5pCJdFDSQTD"
      }
    },
    {
      "cell_type": "code",
      "source": [
        "c"
      ],
      "metadata": {
        "colab": {
          "base_uri": "https://localhost:8080/"
        },
        "id": "6Qg6_VaiSPZt",
        "outputId": "4193cff4-4059-41a3-9513-fc5f3ba34b62"
      },
      "execution_count": 81,
      "outputs": [
        {
          "output_type": "execute_result",
          "data": {
            "text/plain": [
              "[19, 3, 2022, 'm']"
            ]
          },
          "metadata": {},
          "execution_count": 81
        }
      ]
    },
    {
      "cell_type": "code",
      "source": [
        "c.pop(3)\n",
        "#remove list 'c' element at index 3"
      ],
      "metadata": {
        "colab": {
          "base_uri": "https://localhost:8080/",
          "height": 35
        },
        "id": "DnJZjbQTTPUm",
        "outputId": "4f4dd0c2-41b4-4e47-fbfb-8f1de5d2e0d7"
      },
      "execution_count": 82,
      "outputs": [
        {
          "output_type": "execute_result",
          "data": {
            "text/plain": [
              "'m'"
            ],
            "application/vnd.google.colaboratory.intrinsic+json": {
              "type": "string"
            }
          },
          "metadata": {},
          "execution_count": 82
        }
      ]
    },
    {
      "cell_type": "code",
      "source": [
        "print(c)"
      ],
      "metadata": {
        "colab": {
          "base_uri": "https://localhost:8080/"
        },
        "id": "hzUhhmCRTdWm",
        "outputId": "9faede3a-09d1-4d75-b345-4f75a37e70a4"
      },
      "execution_count": 83,
      "outputs": [
        {
          "output_type": "stream",
          "name": "stdout",
          "text": [
            "[19, 3, 2022]\n"
          ]
        }
      ]
    },
    {
      "cell_type": "markdown",
      "source": [
        "####len() and count() in List###\n"
      ],
      "metadata": {
        "id": "eR9bTVAqTkUS"
      }
    },
    {
      "cell_type": "markdown",
      "source": [
        "####len()####\n",
        "<p>len() used to find out the length (number of items or elements) in a List.</p>"
      ],
      "metadata": {
        "id": "gDjnBIIAToKe"
      }
    },
    {
      "cell_type": "code",
      "source": [
        "d = [\"s\",1,\"a\",2,\"r\",3,\"a\",4,4,\"r\",\"i\"]\n",
        "print (d)"
      ],
      "metadata": {
        "colab": {
          "base_uri": "https://localhost:8080/"
        },
        "id": "LJPJZtO0TjRg",
        "outputId": "569e2e9c-8d60-460f-ddcb-1eb3e94362b6"
      },
      "execution_count": 88,
      "outputs": [
        {
          "output_type": "stream",
          "name": "stdout",
          "text": [
            "['s', 1, 'a', 2, 'r', 3, 'a', 4, 4, 'r', 'i']\n"
          ]
        }
      ]
    },
    {
      "cell_type": "code",
      "source": [
        "len(d)\n",
        "#find out the length of the list 'd'"
      ],
      "metadata": {
        "colab": {
          "base_uri": "https://localhost:8080/"
        },
        "id": "MOn32YEZUVCe",
        "outputId": "ef79fe48-e382-47a8-bce7-5716204ae0bf"
      },
      "execution_count": 89,
      "outputs": [
        {
          "output_type": "execute_result",
          "data": {
            "text/plain": [
              "11"
            ]
          },
          "metadata": {},
          "execution_count": 89
        }
      ]
    },
    {
      "cell_type": "markdown",
      "source": [
        "####count()####\n",
        "<p>count(x) returns the count the number of elements x in the List.</p>"
      ],
      "metadata": {
        "id": "D3N-TSwnUlIO"
      }
    },
    {
      "cell_type": "code",
      "source": [
        "d"
      ],
      "metadata": {
        "colab": {
          "base_uri": "https://localhost:8080/"
        },
        "id": "B7Fl7ekQVaBS",
        "outputId": "07ba3d03-89c1-421b-f3cb-096a028bffe6"
      },
      "execution_count": 90,
      "outputs": [
        {
          "output_type": "execute_result",
          "data": {
            "text/plain": [
              "['s', 1, 'a', 2, 'r', 3, 'a', 4, 4, 'r', 'i']"
            ]
          },
          "metadata": {},
          "execution_count": 90
        }
      ]
    },
    {
      "cell_type": "code",
      "source": [
        "d.count(\"r\")"
      ],
      "metadata": {
        "colab": {
          "base_uri": "https://localhost:8080/"
        },
        "id": "jGjceYiDVzVu",
        "outputId": "6ac93c9c-6650-4653-d292-1299b7628b03"
      },
      "execution_count": 92,
      "outputs": [
        {
          "output_type": "execute_result",
          "data": {
            "text/plain": [
              "2"
            ]
          },
          "metadata": {},
          "execution_count": 92
        }
      ]
    },
    {
      "cell_type": "code",
      "source": [
        "d.count(4)"
      ],
      "metadata": {
        "colab": {
          "base_uri": "https://localhost:8080/"
        },
        "id": "ARRU0fLZV6_Q",
        "outputId": "9565cb18-de2e-4b2d-a6c3-11ef18f4dc9b"
      },
      "execution_count": 93,
      "outputs": [
        {
          "output_type": "execute_result",
          "data": {
            "text/plain": [
              "2"
            ]
          },
          "metadata": {},
          "execution_count": 93
        }
      ]
    },
    {
      "cell_type": "markdown",
      "source": [
        "###sort() and reverse() in the List"
      ],
      "metadata": {
        "id": "u97e0U9dWAMK"
      }
    },
    {
      "cell_type": "markdown",
      "source": [
        "####sort()####\n",
        "<p>Sort items in a list in ascending order.</p>"
      ],
      "metadata": {
        "id": "5_5FKPaEWFS1"
      }
    },
    {
      "cell_type": "code",
      "source": [
        "e = [56,77,84,33,24,58,1,2022]\n",
        "f = [\"s\",\"a\",\"t\",\"u\",\"r\",\"d\",\"a\",\"y\"]\n",
        "print (e)\n",
        "print (f)"
      ],
      "metadata": {
        "colab": {
          "base_uri": "https://localhost:8080/"
        },
        "id": "_4FiHE5UV_a8",
        "outputId": "d567946d-dfa6-441f-fecf-3d9312fdaebe"
      },
      "execution_count": 103,
      "outputs": [
        {
          "output_type": "stream",
          "name": "stdout",
          "text": [
            "[56, 77, 84, 33, 24, 58, 1, 2022]\n",
            "['s', 'a', 't', 'u', 'r', 'd', 'a', 'y']\n"
          ]
        }
      ]
    },
    {
      "cell_type": "code",
      "source": [
        "e.sort()\n",
        "f.sort()"
      ],
      "metadata": {
        "id": "JU28v98oWXp3"
      },
      "execution_count": 104,
      "outputs": []
    },
    {
      "cell_type": "code",
      "source": [
        "print (e)\n",
        "print (f)"
      ],
      "metadata": {
        "colab": {
          "base_uri": "https://localhost:8080/"
        },
        "id": "Kkwf1gW4Wddg",
        "outputId": "298df933-9d7b-4551-ec39-df58fe0d0f1c"
      },
      "execution_count": 105,
      "outputs": [
        {
          "output_type": "stream",
          "name": "stdout",
          "text": [
            "[1, 24, 33, 56, 58, 77, 84, 2022]\n",
            "['a', 'a', 'd', 'r', 's', 't', 'u', 'y']\n"
          ]
        }
      ]
    },
    {
      "cell_type": "markdown",
      "source": [
        "####reverse()####\n",
        "<p>Reverse the order of items in the list.</p>"
      ],
      "metadata": {
        "id": "Oeo3ykmzWgO7"
      }
    },
    {
      "cell_type": "code",
      "source": [
        "e"
      ],
      "metadata": {
        "colab": {
          "base_uri": "https://localhost:8080/"
        },
        "id": "tGC3JtG3Wmxa",
        "outputId": "79b41a1c-e70c-4b02-a19e-ef430ed4c24d"
      },
      "execution_count": 107,
      "outputs": [
        {
          "output_type": "execute_result",
          "data": {
            "text/plain": [
              "[1, 24, 33, 56, 58, 77, 84, 2022]"
            ]
          },
          "metadata": {},
          "execution_count": 107
        }
      ]
    },
    {
      "cell_type": "code",
      "source": [
        "f"
      ],
      "metadata": {
        "colab": {
          "base_uri": "https://localhost:8080/"
        },
        "id": "vFQtFho5XG14",
        "outputId": "dbfef8f0-52f7-49e6-b41e-3ec2c90c4ce3"
      },
      "execution_count": 108,
      "outputs": [
        {
          "output_type": "execute_result",
          "data": {
            "text/plain": [
              "['a', 'a', 'd', 'r', 's', 't', 'u', 'y']"
            ]
          },
          "metadata": {},
          "execution_count": 108
        }
      ]
    },
    {
      "cell_type": "code",
      "source": [
        "e.reverse()\n",
        "f.reverse()"
      ],
      "metadata": {
        "id": "tFeAY1roWoKG"
      },
      "execution_count": 109,
      "outputs": []
    },
    {
      "cell_type": "code",
      "source": [
        "print (e)\n",
        "print (f)"
      ],
      "metadata": {
        "colab": {
          "base_uri": "https://localhost:8080/"
        },
        "id": "4V0NOkVtWq5h",
        "outputId": "194070ee-0bf1-48d4-de2a-fcae1becdccc"
      },
      "execution_count": 110,
      "outputs": [
        {
          "output_type": "stream",
          "name": "stdout",
          "text": [
            "[2022, 84, 77, 58, 56, 33, 24, 1]\n",
            "['y', 'u', 't', 's', 'r', 'd', 'a', 'a']\n"
          ]
        }
      ]
    },
    {
      "cell_type": "markdown",
      "source": [
        "###index() in the List###\n"
      ],
      "metadata": {
        "id": "xC8rNlrLXP5r"
      }
    },
    {
      "cell_type": "markdown",
      "source": [
        "Index method in the List used to returns the index of the first matched item"
      ],
      "metadata": {
        "id": "QsVfp3byXmno"
      }
    },
    {
      "cell_type": "code",
      "source": [
        "g = [1,2,4,5,1,7,9,10,4,7]\n",
        "print (g)"
      ],
      "metadata": {
        "colab": {
          "base_uri": "https://localhost:8080/"
        },
        "id": "BBalRj33Xw0f",
        "outputId": "f13c398c-eeef-4976-aeae-65899c79bddf"
      },
      "execution_count": 114,
      "outputs": [
        {
          "output_type": "stream",
          "name": "stdout",
          "text": [
            "[1, 2, 4, 5, 1, 7, 9, 10, 4, 7]\n"
          ]
        }
      ]
    },
    {
      "cell_type": "code",
      "source": [
        "g.index(4)"
      ],
      "metadata": {
        "colab": {
          "base_uri": "https://localhost:8080/"
        },
        "id": "WvrfAtyRX7Et",
        "outputId": "45d546fd-cf0f-4e0c-b457-4c8abd2cb1ea"
      },
      "execution_count": 115,
      "outputs": [
        {
          "output_type": "execute_result",
          "data": {
            "text/plain": [
              "2"
            ]
          },
          "metadata": {},
          "execution_count": 115
        }
      ]
    },
    {
      "cell_type": "markdown",
      "source": [
        "Trying to access element other than element in the list will raise an Error."
      ],
      "metadata": {
        "id": "QVfUbqHtYn91"
      }
    },
    {
      "cell_type": "code",
      "source": [
        "g.index(0)"
      ],
      "metadata": {
        "colab": {
          "base_uri": "https://localhost:8080/",
          "height": 165
        },
        "id": "hBsHxWNhYqyR",
        "outputId": "72599998-ba09-4fe6-c55c-0dfd77edf20b"
      },
      "execution_count": 116,
      "outputs": [
        {
          "output_type": "error",
          "ename": "ValueError",
          "evalue": "ignored",
          "traceback": [
            "\u001b[0;31m---------------------------------------------------------------------------\u001b[0m",
            "\u001b[0;31mValueError\u001b[0m                                Traceback (most recent call last)",
            "\u001b[0;32m<ipython-input-116-07be63494764>\u001b[0m in \u001b[0;36m<module>\u001b[0;34m()\u001b[0m\n\u001b[0;32m----> 1\u001b[0;31m \u001b[0mg\u001b[0m\u001b[0;34m.\u001b[0m\u001b[0mindex\u001b[0m\u001b[0;34m(\u001b[0m\u001b[0;36m0\u001b[0m\u001b[0;34m)\u001b[0m\u001b[0;34m\u001b[0m\u001b[0;34m\u001b[0m\u001b[0m\n\u001b[0m",
            "\u001b[0;31mValueError\u001b[0m: 0 is not in list"
          ]
        }
      ]
    }
  ]
}