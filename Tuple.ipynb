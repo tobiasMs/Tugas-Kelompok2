{
  "nbformat": 4,
  "nbformat_minor": 0,
  "metadata": {
    "colab": {
      "name": "Tuple.ipynb",
      "provenance": [],
      "collapsed_sections": []
    },
    "kernelspec": {
      "name": "python3",
      "display_name": "Python 3"
    },
    "language_info": {
      "name": "python"
    }
  },
  "cells": [
    {
      "cell_type": "markdown",
      "source": [
        "#Tuple#"
      ],
      "metadata": {
        "id": "2OmqbQW3fStd"
      }
    },
    {
      "cell_type": "markdown",
      "source": [
        "Tuple in Python is similar to a list. The difference between the two is that we cannot change the elements of a tuple once it is assigned whereas we can change the elements of a list.\n",
        "<br>Tuple generally used for data that is one-time write and can be executed quickly. <br>Tuple are defined by parentheses ( ) and elements separated by commas."
      ],
      "metadata": {
        "id": "i5CxAnC1fczS"
      }
    },
    {
      "cell_type": "markdown",
      "source": [
        "###Creating a Tuple###"
      ],
      "metadata": {
        "id": "WlyCKDwBf6X5"
      }
    },
    {
      "cell_type": "markdown",
      "source": [
        "A tuple is created by placing all the items (elements) inside parentheses ( ), separated by commas. A tuple can have any number of items and they may be of different types (integer, float, list, string, etc.)."
      ],
      "metadata": {
        "id": "H6UIaMuPgelH"
      }
    },
    {
      "cell_type": "code",
      "execution_count": 4,
      "metadata": {
        "colab": {
          "base_uri": "https://localhost:8080/"
        },
        "id": "viNZrddlfR6V",
        "outputId": "5c1b8251-589f-4118-fa6a-8a07741a6193"
      },
      "outputs": [
        {
          "output_type": "stream",
          "name": "stdout",
          "text": [
            "('DST_B', 50, 19.0, 'PM')\n"
          ]
        }
      ],
      "source": [
        "pathway = (\"DST_B\", 50, 19.0,\"PM\")\n",
        "print (pathway)"
      ]
    },
    {
      "cell_type": "code",
      "source": [
        "type (pathway)"
      ],
      "metadata": {
        "colab": {
          "base_uri": "https://localhost:8080/"
        },
        "id": "sNv1345RjU7q",
        "outputId": "f249b6f5-8835-4a2b-f5bd-40e8c9db2649"
      },
      "execution_count": 13,
      "outputs": [
        {
          "output_type": "execute_result",
          "data": {
            "text/plain": [
              "tuple"
            ]
          },
          "metadata": {},
          "execution_count": 13
        }
      ]
    },
    {
      "cell_type": "markdown",
      "source": [
        "Creating a tuple with one element is a bit tricky.\n",
        "<br>Having one element within parentheses is not enough. We will need a trailing comma to indicate that it is, in fact, a tuple."
      ],
      "metadata": {
        "id": "0DJw7FPMh0sF"
      }
    },
    {
      "cell_type": "code",
      "source": [
        "fruit = (\"banana\")\n",
        "print (fruit)"
      ],
      "metadata": {
        "colab": {
          "base_uri": "https://localhost:8080/"
        },
        "id": "tH-oWAKtiaPy",
        "outputId": "569b0981-c683-4ba5-88fd-bf7822d0b86d"
      },
      "execution_count": 9,
      "outputs": [
        {
          "output_type": "stream",
          "name": "stdout",
          "text": [
            "banana\n"
          ]
        }
      ]
    },
    {
      "cell_type": "code",
      "source": [
        "type (fruit)"
      ],
      "metadata": {
        "colab": {
          "base_uri": "https://localhost:8080/"
        },
        "id": "E2HG69NKie1-",
        "outputId": "aead48ec-1804-408d-cee1-c2b393013283"
      },
      "execution_count": 10,
      "outputs": [
        {
          "output_type": "execute_result",
          "data": {
            "text/plain": [
              "str"
            ]
          },
          "metadata": {},
          "execution_count": 10
        }
      ]
    },
    {
      "cell_type": "code",
      "source": [
        "fruits = (\"banana\", \"watermelon\", \"grapes\")\n",
        "print (fruits)"
      ],
      "metadata": {
        "colab": {
          "base_uri": "https://localhost:8080/"
        },
        "id": "h1UccLMQikjt",
        "outputId": "97b66bc1-509c-4a42-c6a4-8d8f8b6e7f25"
      },
      "execution_count": 11,
      "outputs": [
        {
          "output_type": "stream",
          "name": "stdout",
          "text": [
            "('banana', 'watermelon', 'grapes')\n"
          ]
        }
      ]
    },
    {
      "cell_type": "code",
      "source": [
        "type (fruits)"
      ],
      "metadata": {
        "colab": {
          "base_uri": "https://localhost:8080/"
        },
        "id": "PjTgIQ6Giwpt",
        "outputId": "56060c5b-1a26-4325-ce28-7157c050f58e"
      },
      "execution_count": 12,
      "outputs": [
        {
          "output_type": "execute_result",
          "data": {
            "text/plain": [
              "tuple"
            ]
          },
          "metadata": {},
          "execution_count": 12
        }
      ]
    },
    {
      "cell_type": "markdown",
      "source": [
        "###Accesses Element in the Tuple####\n"
      ],
      "metadata": {
        "id": "BOwoshxuiCJ0"
      }
    },
    {
      "cell_type": "markdown",
      "source": [
        "Same as in list we can use the slicing operator [ ] to access an element of the Tuple by index. The index starts from 0 in Python. <br>\n",
        "We also can access a range of items in a Tuple by using the slicing operator (:).\n",
        "When using Tuple slicing, b [ m:n ], means returning tuple b elements, from element with index m to elemen with index n-1."
      ],
      "metadata": {
        "id": "pp3qjlAwmGRe"
      }
    },
    {
      "cell_type": "code",
      "source": [
        "b = (21, 'Fitri', 2, 5, 'i')\n",
        "print (b)"
      ],
      "metadata": {
        "colab": {
          "base_uri": "https://localhost:8080/"
        },
        "id": "r5y6SFeJl_Pv",
        "outputId": "a8c4e882-b278-441e-ffe5-f76e1411b995"
      },
      "execution_count": 16,
      "outputs": [
        {
          "output_type": "stream",
          "name": "stdout",
          "text": [
            "(21, 'Fitri', 2, 5, 'i')\n"
          ]
        }
      ]
    },
    {
      "cell_type": "code",
      "source": [
        "print (b[0])\n",
        "print (b[1])\n",
        "print (b[4])"
      ],
      "metadata": {
        "colab": {
          "base_uri": "https://localhost:8080/"
        },
        "id": "_w__F455myLY",
        "outputId": "ec46d3d7-54cd-4598-c8ea-181d8e196193"
      },
      "execution_count": 18,
      "outputs": [
        {
          "output_type": "stream",
          "name": "stdout",
          "text": [
            "21\n",
            "Fitri\n",
            "i\n"
          ]
        }
      ]
    },
    {
      "cell_type": "code",
      "source": [
        "print (b[3:5])\n",
        "#return tuple b with elements at index 3 and 4"
      ],
      "metadata": {
        "colab": {
          "base_uri": "https://localhost:8080/"
        },
        "id": "-Pa3x60EnCYL",
        "outputId": "67da1ef2-2d59-460d-a267-c786da0ea348"
      },
      "execution_count": 19,
      "outputs": [
        {
          "output_type": "stream",
          "name": "stdout",
          "text": [
            "(5, 'i')\n"
          ]
        }
      ]
    },
    {
      "cell_type": "code",
      "source": [
        "print (b[:2])\n",
        "##return tuple b with elements from beginning to index 1"
      ],
      "metadata": {
        "colab": {
          "base_uri": "https://localhost:8080/"
        },
        "id": "ibHkL5_PnM0U",
        "outputId": "457949fe-7c1d-4d50-c51d-058c7fc3e744"
      },
      "execution_count": 20,
      "outputs": [
        {
          "output_type": "stream",
          "name": "stdout",
          "text": [
            "(21, 'Fitri')\n"
          ]
        }
      ]
    },
    {
      "cell_type": "markdown",
      "source": [
        "Same as List, negative index can also be used in Tuple."
      ],
      "metadata": {
        "id": "e9jKohnAo8u7"
      }
    },
    {
      "cell_type": "code",
      "source": [
        "print (b[-3])\n",
        "print (b[-1])"
      ],
      "metadata": {
        "colab": {
          "base_uri": "https://localhost:8080/"
        },
        "id": "50V-4_KIpG5i",
        "outputId": "62f3fe76-c3c2-4938-db84-926a143d8c54"
      },
      "execution_count": 22,
      "outputs": [
        {
          "output_type": "stream",
          "name": "stdout",
          "text": [
            "2\n",
            "i\n"
          ]
        }
      ]
    },
    {
      "cell_type": "markdown",
      "source": [
        "####Difference Between List and Tuple####"
      ],
      "metadata": {
        "id": "JwzztydWo0Xu"
      }
    },
    {
      "cell_type": "markdown",
      "source": [
        "The difference between the Tuple and List is we cannot change the elements of a tuple once it is assigned whereas we can change the elements of a list."
      ],
      "metadata": {
        "id": "Qq4UtFOxpXXo"
      }
    },
    {
      "cell_type": "code",
      "source": [
        "b"
      ],
      "metadata": {
        "colab": {
          "base_uri": "https://localhost:8080/"
        },
        "id": "1_Wv2Vazo4_0",
        "outputId": "c3d312d7-c837-466e-e696-29174295737a"
      },
      "execution_count": 23,
      "outputs": [
        {
          "output_type": "execute_result",
          "data": {
            "text/plain": [
              "(21, 'Fitri', 2, 5, 'i')"
            ]
          },
          "metadata": {},
          "execution_count": 23
        }
      ]
    },
    {
      "cell_type": "code",
      "source": [
        "type (b)"
      ],
      "metadata": {
        "colab": {
          "base_uri": "https://localhost:8080/"
        },
        "id": "hv0fenSxpiNi",
        "outputId": "9974bbb5-6891-4bc3-e234-ff9272e66b10"
      },
      "execution_count": 24,
      "outputs": [
        {
          "output_type": "execute_result",
          "data": {
            "text/plain": [
              "tuple"
            ]
          },
          "metadata": {},
          "execution_count": 24
        }
      ]
    },
    {
      "cell_type": "code",
      "source": [
        "c = [21, \"Fitri\", 2.5, 'i']\n",
        "print (c)"
      ],
      "metadata": {
        "colab": {
          "base_uri": "https://localhost:8080/"
        },
        "id": "ozPNeS6xpjcY",
        "outputId": "c7a505d6-1f72-45a3-f82c-e49184ec75ab"
      },
      "execution_count": 26,
      "outputs": [
        {
          "output_type": "stream",
          "name": "stdout",
          "text": [
            "[21, 'Fitri', 2.5, 'i']\n"
          ]
        }
      ]
    },
    {
      "cell_type": "code",
      "source": [
        "type(c)"
      ],
      "metadata": {
        "colab": {
          "base_uri": "https://localhost:8080/"
        },
        "id": "9tvRjygwpqdE",
        "outputId": "b6ce1d54-d5ee-44f0-fcb8-da0bfcab4302"
      },
      "execution_count": 27,
      "outputs": [
        {
          "output_type": "execute_result",
          "data": {
            "text/plain": [
              "list"
            ]
          },
          "metadata": {},
          "execution_count": 27
        }
      ]
    },
    {
      "cell_type": "code",
      "source": [
        "b[0] = 22"
      ],
      "metadata": {
        "colab": {
          "base_uri": "https://localhost:8080/",
          "height": 165
        },
        "id": "pKvyvn0upseW",
        "outputId": "dd831607-ca99-473b-8171-8ff47e349574"
      },
      "execution_count": 28,
      "outputs": [
        {
          "output_type": "error",
          "ename": "TypeError",
          "evalue": "ignored",
          "traceback": [
            "\u001b[0;31m---------------------------------------------------------------------------\u001b[0m",
            "\u001b[0;31mTypeError\u001b[0m                                 Traceback (most recent call last)",
            "\u001b[0;32m<ipython-input-28-041243f79f69>\u001b[0m in \u001b[0;36m<module>\u001b[0;34m()\u001b[0m\n\u001b[0;32m----> 1\u001b[0;31m \u001b[0mb\u001b[0m\u001b[0;34m[\u001b[0m\u001b[0;36m0\u001b[0m\u001b[0;34m]\u001b[0m \u001b[0;34m=\u001b[0m \u001b[0;36m22\u001b[0m\u001b[0;34m\u001b[0m\u001b[0;34m\u001b[0m\u001b[0m\n\u001b[0m",
            "\u001b[0;31mTypeError\u001b[0m: 'tuple' object does not support item assignment"
          ]
        }
      ]
    },
    {
      "cell_type": "code",
      "source": [
        "c[0] = 22\n",
        "print (c)"
      ],
      "metadata": {
        "colab": {
          "base_uri": "https://localhost:8080/"
        },
        "id": "Wt6xOffVpyRf",
        "outputId": "62eb9825-125d-4bef-9605-429bf1ac32b4"
      },
      "execution_count": 30,
      "outputs": [
        {
          "output_type": "stream",
          "name": "stdout",
          "text": [
            "[22, 'Fitri', 2.5, 'i']\n"
          ]
        }
      ]
    },
    {
      "cell_type": "markdown",
      "source": [
        "###Deleting Element in the Tuple###\n"
      ],
      "metadata": {
        "id": "pNEoHNJjp_dG"
      }
    },
    {
      "cell_type": "markdown",
      "source": [
        "As discussed above, we cannot change the elements in a tuple. It means that we cannot delete or remove items from a tuple."
      ],
      "metadata": {
        "id": "_FKsL602qDuk"
      }
    },
    {
      "cell_type": "code",
      "source": [
        "b"
      ],
      "metadata": {
        "colab": {
          "base_uri": "https://localhost:8080/"
        },
        "id": "f_5yCuuOqC_u",
        "outputId": "c68eac80-54cb-4787-fd76-6e437daef36c"
      },
      "execution_count": 31,
      "outputs": [
        {
          "output_type": "execute_result",
          "data": {
            "text/plain": [
              "(21, 'Fitri', 2, 5, 'i')"
            ]
          },
          "metadata": {},
          "execution_count": 31
        }
      ]
    },
    {
      "cell_type": "code",
      "source": [
        "del (b[0])"
      ],
      "metadata": {
        "colab": {
          "base_uri": "https://localhost:8080/",
          "height": 165
        },
        "id": "unme7d7OqWOQ",
        "outputId": "61051034-b48c-481f-9b51-ed9aa930f442"
      },
      "execution_count": 32,
      "outputs": [
        {
          "output_type": "error",
          "ename": "TypeError",
          "evalue": "ignored",
          "traceback": [
            "\u001b[0;31m---------------------------------------------------------------------------\u001b[0m",
            "\u001b[0;31mTypeError\u001b[0m                                 Traceback (most recent call last)",
            "\u001b[0;32m<ipython-input-32-4da618f941f4>\u001b[0m in \u001b[0;36m<module>\u001b[0;34m()\u001b[0m\n\u001b[0;32m----> 1\u001b[0;31m \u001b[0;32mdel\u001b[0m \u001b[0;34m(\u001b[0m\u001b[0mb\u001b[0m\u001b[0;34m[\u001b[0m\u001b[0;36m0\u001b[0m\u001b[0;34m]\u001b[0m\u001b[0;34m)\u001b[0m\u001b[0;34m\u001b[0m\u001b[0;34m\u001b[0m\u001b[0m\n\u001b[0m",
            "\u001b[0;31mTypeError\u001b[0m: 'tuple' object doesn't support item deletion"
          ]
        }
      ]
    },
    {
      "cell_type": "markdown",
      "source": [
        "But we can delete the Tuple entirely using del."
      ],
      "metadata": {
        "id": "r_NNqkg7qZn8"
      }
    },
    {
      "cell_type": "code",
      "source": [
        "del b"
      ],
      "metadata": {
        "id": "pnSsGOT6qhlw"
      },
      "execution_count": 33,
      "outputs": []
    },
    {
      "cell_type": "code",
      "source": [
        "print (b)"
      ],
      "metadata": {
        "colab": {
          "base_uri": "https://localhost:8080/",
          "height": 165
        },
        "id": "u982bBG9qmi6",
        "outputId": "7917d79f-9982-415e-fe3f-7d9641438644"
      },
      "execution_count": 34,
      "outputs": [
        {
          "output_type": "error",
          "ename": "NameError",
          "evalue": "ignored",
          "traceback": [
            "\u001b[0;31m---------------------------------------------------------------------------\u001b[0m",
            "\u001b[0;31mNameError\u001b[0m                                 Traceback (most recent call last)",
            "\u001b[0;32m<ipython-input-34-900bccc0e8e1>\u001b[0m in \u001b[0;36m<module>\u001b[0;34m()\u001b[0m\n\u001b[0;32m----> 1\u001b[0;31m \u001b[0mprint\u001b[0m \u001b[0;34m(\u001b[0m\u001b[0mb\u001b[0m\u001b[0;34m)\u001b[0m\u001b[0;34m\u001b[0m\u001b[0;34m\u001b[0m\u001b[0m\n\u001b[0m",
            "\u001b[0;31mNameError\u001b[0m: name 'b' is not defined"
          ]
        }
      ]
    }
  ]
}